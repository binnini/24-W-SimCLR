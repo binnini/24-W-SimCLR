{
 "cells": [
  {
   "cell_type": "code",
   "execution_count": 5,
   "metadata": {},
   "outputs": [
    {
     "name": "stdout",
     "output_type": "stream",
     "text": [
      "/hdd1/yebin/24-W-SimCLR/save/cifar10/org/checkpoint_60.tar\n"
     ]
    },
    {
     "name": "stderr",
     "output_type": "stream",
     "text": [
      "/tmp/ipykernel_381041/2410831115.py:9: FutureWarning: You are using `torch.load` with `weights_only=False` (the current default value), which uses the default pickle module implicitly. It is possible to construct malicious pickle data which will execute arbitrary code during unpickling (See https://github.com/pytorch/pytorch/blob/main/SECURITY.md#untrusted-models for more details). In a future release, the default value for `weights_only` will be flipped to `True`. This limits the functions that could be executed during unpickling. Arbitrary objects will no longer be allowed to be loaded via this mode unless they are explicitly allowlisted by the user via `torch.serialization.add_safe_globals`. We recommend you start setting `weights_only=True` for any use case where you don't have full control of the loaded file. Please open an issue on GitHub for any issues related to this experimental feature.\n",
      "  checkpoint = torch.load(checkpoint_path)\n"
     ]
    },
    {
     "name": "stdout",
     "output_type": "stream",
     "text": [
      "TensorBoard logs created in logs/from_checkpoint\n"
     ]
    }
   ],
   "source": [
    "import torch\n",
    "from torch.utils.tensorboard import SummaryWriter\n",
    "\n",
    "method = \"org\"  # org 변수는 적절히 설정되어야 합니다.\n",
    "epoch = 60\n",
    "checkpoint_path = f'/hdd1/yebin/24-W-SimCLR/save/cifar10/{method}/checkpoint_{epoch}.tar'\n",
    "print(checkpoint_path)\n",
    "\n",
    "checkpoint = torch.load(checkpoint_path)\n",
    "# Extract data\n",
    "model_state_dict = checkpoint.get('model_state_dict', {})\n",
    "epoch = checkpoint.get('epoch', 0)\n",
    "loss = checkpoint.get('loss', None)\n",
    "\n",
    "# Initialize SummaryWriter\n",
    "log_dir = 'logs/from_checkpoint'\n",
    "writer = SummaryWriter(log_dir)\n",
    "\n",
    "# Write scalars (e.g., loss)\n",
    "if loss is not None:\n",
    "    writer.add_scalar('Loss', loss, epoch)\n",
    "\n",
    "# Write histograms (e.g., weights)\n",
    "for name, param in model_state_dict.items():\n",
    "    writer.add_histogram(name, param, epoch)\n",
    "\n",
    "# Close the writer\n",
    "writer.close()\n",
    "\n",
    "# Run TensorBoard\n",
    "print(f\"TensorBoard logs created in {log_dir}\")\n"
   ]
  }
 ],
 "metadata": {
  "kernelspec": {
   "display_name": "simclr_kernel",
   "language": "python",
   "name": "simclr"
  },
  "language_info": {
   "codemirror_mode": {
    "name": "ipython",
    "version": 3
   },
   "file_extension": ".py",
   "mimetype": "text/x-python",
   "name": "python",
   "nbconvert_exporter": "python",
   "pygments_lexer": "ipython3",
   "version": "3.12.8"
  }
 },
 "nbformat": 4,
 "nbformat_minor": 2
}
